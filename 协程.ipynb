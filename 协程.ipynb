{
 "cells": [
  {
   "cell_type": "code",
   "execution_count": 1,
   "metadata": {},
   "outputs": [],
   "source": [
    "from IPython.core.interactiveshell import InteractiveShell\n",
    "InteractiveShell.ast_node_interactivity = \"all\""
   ]
  },
  {
   "cell_type": "code",
   "execution_count": 8,
   "metadata": {},
   "outputs": [
    {
     "name": "stdout",
     "output_type": "stream",
     "text": [
      "flag0\n",
      "Start consumer\n",
      "flag1\n",
      "[PRODUCER] Producing 1...\n",
      "[CONSUMER] Consuming 1...\n",
      "[PRODUCER] Consumer return: 200 OK\n",
      "[PRODUCER] Producing 2...\n",
      "[CONSUMER] Consuming 2...\n",
      "[PRODUCER] Consumer return: 200 OK\n",
      "[PRODUCER] Producing 3...\n",
      "[CONSUMER] Consuming 3...\n",
      "[PRODUCER] Consumer return: 200 OK\n",
      "[PRODUCER] Producing 4...\n",
      "[CONSUMER] Consuming 4...\n",
      "[PRODUCER] Consumer return: 200 OK\n",
      "[PRODUCER] Producing 5...\n",
      "[CONSUMER] Consuming 5...\n",
      "[PRODUCER] Consumer return: 200 OK\n"
     ]
    }
   ],
   "source": [
    "def consumer():\n",
    "    r = ''\n",
    "    print('Start consumer')\n",
    "    while True:\n",
    "        n = yield r #c.send(None)在这里停止，接下来把1赋值给n\n",
    "        if not n:\n",
    "            return\n",
    "        print('[CONSUMER] Consuming %s...' % n)\n",
    "        r = '200 OK'\n",
    "\n",
    "def produce(c):\n",
    "    print('flag0')\n",
    "    c.send(None)\n",
    "    print('flag1')\n",
    "    n = 0\n",
    "    while n < 5:\n",
    "        n = n + 1\n",
    "        print('[PRODUCER] Producing %s...' % n)\n",
    "        r = c.send(n)\n",
    "        print('[PRODUCER] Consumer return: %s' % r)\n",
    "    c.close()\n",
    "\n",
    "c=consumer()\n",
    "produce(c)"
   ]
  },
  {
   "cell_type": "code",
   "execution_count": 39,
   "metadata": {},
   "outputs": [
    {
     "data": {
      "text/plain": [
       "<generator object middle at 0x10350c830>"
      ]
     },
     "execution_count": 39,
     "metadata": {},
     "output_type": "execute_result"
    }
   ],
   "source": [
    "def h():\n",
    "    print ('Wen Chuan')\n",
    "    m = yield ''  # Fighting!\n",
    "    print (m)\n",
    "    d = yield 12\n",
    "    print ('We are together!')\n",
    "    return '12'\n",
    "\n",
    "c = h()\n",
    "#c.send(None)  #如果不send(none)，就没有yield来接受这个值\n",
    "#c.send('Fighting!')  #(yield 5)表达式被赋予了'Fighting!'\n"
   ]
  },
  {
   "cell_type": "code",
   "execution_count": null,
   "metadata": {},
   "outputs": [],
   "source": []
  },
  {
   "cell_type": "markdown",
   "metadata": {},
   "source": [
    "http://www.cnblogs.com/coderzh/articles/1202040.html"
   ]
  },
  {
   "cell_type": "markdown",
   "metadata": {},
   "source": [
    "# throw()"
   ]
  },
  {
   "cell_type": "code",
   "execution_count": 10,
   "metadata": {},
   "outputs": [
    {
     "name": "stdout",
     "output_type": "stream",
     "text": [
      "1\n"
     ]
    },
    {
     "data": {
      "text/plain": [
       "2"
      ]
     },
     "execution_count": 10,
     "metadata": {},
     "output_type": "execute_result"
    }
   ],
   "source": [
    "def gen_func():\n",
    "    try:\n",
    "        yield 1\n",
    "    except Exception as e:\n",
    "        pass\n",
    "    yield 2\n",
    "    yield 3\n",
    "    \n",
    "if __name__=='__main__':\n",
    "    gen=gen_func()\n",
    "    print(next(gen))\n",
    "    gen.throw(Exception,'download error')"
   ]
  },
  {
   "cell_type": "markdown",
   "metadata": {},
   "source": [
    "# yield from"
   ]
  },
  {
   "cell_type": "code",
   "execution_count": null,
   "metadata": {},
   "outputs": [],
   "source": [
    "yield from iterable\n",
    "类似于\n",
    "for value in iterable:\n",
    "    yield value"
   ]
  },
  {
   "cell_type": "code",
   "execution_count": null,
   "metadata": {},
   "outputs": [],
   "source": []
  },
  {
   "cell_type": "code",
   "execution_count": null,
   "metadata": {},
   "outputs": [],
   "source": [
    "## 通过middle 在子生成器（sales_sum）与main函数中直接建立链接"
   ]
  },
  {
   "cell_type": "code",
   "execution_count": 1,
   "metadata": {},
   "outputs": [
    {
     "name": "stdout",
     "output_type": "stream",
     "text": [
      "start key: bobby牌面膜\n",
      "1\n",
      "bobby牌面膜销量 1200\n",
      "bobby牌面膜销量 1500\n",
      "bobby牌面膜销量 3000\n",
      "bobby牌面膜销量 None\n",
      "bobby牌面膜销量统计完成\n",
      "1\n",
      "final_results {'bobby牌面膜': (5700, [1200, 1500, 3000])}\n",
      "start key: bobby牌手机\n",
      "1\n",
      "bobby牌手机销量 28\n",
      "bobby牌手机销量 55\n",
      "bobby牌手机销量 98\n",
      "bobby牌手机销量 108\n",
      "bobby牌手机销量 None\n",
      "bobby牌手机销量统计完成\n",
      "1\n",
      "final_results {'bobby牌面膜': (5700, [1200, 1500, 3000]), 'bobby牌手机': (289, [28, 55, 98, 108])}\n",
      "start key: bobby牌大衣\n",
      "1\n",
      "bobby牌大衣销量 280\n",
      "bobby牌大衣销量 560\n",
      "bobby牌大衣销量 778\n",
      "bobby牌大衣销量 70\n",
      "bobby牌大衣销量 None\n",
      "bobby牌大衣销量统计完成\n",
      "1\n",
      "final_results {'bobby牌面膜': (5700, [1200, 1500, 3000]), 'bobby牌手机': (289, [28, 55, 98, 108]), 'bobby牌大衣': (1688, [280, 560, 778, 70])}\n"
     ]
    }
   ],
   "source": [
    "final_result={}\n",
    "def sales_sum(products):\n",
    "    total=0\n",
    "    nums=[]\n",
    "    while True:\n",
    "        x=yield\n",
    "        print(products+'销量',x)\n",
    "        if not x:\n",
    "            break\n",
    "        total +=x\n",
    "        nums.append(x)\n",
    "    return total,nums\n",
    "\n",
    "def middle(key):\n",
    "    #这个循环每次都会新建一个sales_sum实例，每个实例都是作为协程使用的生成器对象\n",
    "    while True:\n",
    "        print(1)\n",
    "        final_result[key]=yield from sales_sum(key) # yield from处理子生成器产生的 stopiteration 并捕获result\n",
    "        print(key+'销量统计完成')\n",
    "    \n",
    "def main():\n",
    "    data_sets={\n",
    "        \"bobby牌面膜\":[1200,1500,3000],\n",
    "        \"bobby牌手机\":[28,55,98,108],\n",
    "        \"bobby牌大衣\":[280,560,778,70]\n",
    "    }\n",
    "    for key, data_set in data_sets.items():\n",
    "        print(\"start key:\", key)\n",
    "        m=middle(key)\n",
    "        m.send(None)    # 激活协程m\n",
    "        for value in data_set:\n",
    "            # 把各个value传给middle 传入的值最终到达sales_sum函数中；\n",
    "            # middle并不知道传入的是什么，同时middle实例,m在yield from处暂停\n",
    "            m.send(value)\n",
    "        m.send(None)\n",
    "        print(\"final_results\", final_result)\n",
    "\n",
    "main()"
   ]
  },
  {
   "cell_type": "markdown",
   "metadata": {},
   "source": [
    "grouper 发送的每个值都会经由 yield from 处理，通过管道传给 averager 实例。grouper 会在 yield from 表达式处暂停，等待 averager 实例处理客户端发来的值。averager 实例运行完毕后，返回的值绑定到 results[key] 上。while 循环会不断创建 averager 实例，处理更多的值。\n",
    "\n",
    "外层 for 循环重新迭代时会新建一个 grouper 实例，然后绑定到 group 变量上。前一个 grouper 实例（以及它创建的尚未终止的 averager 子生成器实例）被垃圾回收程序回收。\n",
    "https://www.cnblogs.com/gqtcgq/p/8126124.html"
   ]
  }
 ],
 "metadata": {
  "kernelspec": {
   "display_name": "Python 3",
   "language": "python",
   "name": "python3"
  },
  "language_info": {
   "codemirror_mode": {
    "name": "ipython",
    "version": 3
   },
   "file_extension": ".py",
   "mimetype": "text/x-python",
   "name": "python",
   "nbconvert_exporter": "python",
   "pygments_lexer": "ipython3",
   "version": "3.7.1"
  },
  "toc": {
   "base_numbering": 1,
   "nav_menu": {},
   "number_sections": true,
   "sideBar": true,
   "skip_h1_title": false,
   "title_cell": "Table of Contents",
   "title_sidebar": "Contents",
   "toc_cell": false,
   "toc_position": {},
   "toc_section_display": true,
   "toc_window_display": false
  }
 },
 "nbformat": 4,
 "nbformat_minor": 2
}
