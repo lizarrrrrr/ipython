{
 "cells": [
  {
   "cell_type": "code",
   "execution_count": 10,
   "metadata": {},
   "outputs": [
    {
     "name": "stdout",
     "output_type": "stream",
     "text": [
      "start key:bobby牌面膜\n",
      "bobby牌面膜销量 1200\n",
      "bobby牌面膜销量 1500\n",
      "bobby牌面膜销量 3000\n",
      "bobby牌面膜销量统计完成\n"
     ]
    },
    {
     "ename": "StopIteration",
     "evalue": "",
     "output_type": "error",
     "traceback": [
      "\u001b[0;31m---------------------------------------------------------------------------\u001b[0m",
      "\u001b[0;31mStopIteration\u001b[0m                             Traceback (most recent call last)",
      "\u001b[0;32m<ipython-input-10-f66c0612e053>\u001b[0m in \u001b[0;36m<module>\u001b[0;34m\u001b[0m\n\u001b[1;32m     34\u001b[0m         \u001b[0mm\u001b[0m\u001b[0;34m.\u001b[0m\u001b[0msend\u001b[0m\u001b[0;34m(\u001b[0m\u001b[0;32mNone\u001b[0m\u001b[0;34m)\u001b[0m\u001b[0;34m\u001b[0m\u001b[0;34m\u001b[0m\u001b[0m\n\u001b[1;32m     35\u001b[0m         \u001b[0mprint\u001b[0m\u001b[0;34m(\u001b[0m\u001b[0mfinal_results\u001b[0m\u001b[0;34m)\u001b[0m\u001b[0;34m\u001b[0m\u001b[0;34m\u001b[0m\u001b[0m\n\u001b[0;32m---> 36\u001b[0;31m \u001b[0mmain\u001b[0m\u001b[0;34m(\u001b[0m\u001b[0;34m)\u001b[0m\u001b[0;34m\u001b[0m\u001b[0;34m\u001b[0m\u001b[0m\n\u001b[0m",
      "\u001b[0;32m<ipython-input-10-f66c0612e053>\u001b[0m in \u001b[0;36mmain\u001b[0;34m()\u001b[0m\n\u001b[1;32m     32\u001b[0m         \u001b[0;32mfor\u001b[0m \u001b[0mvalue\u001b[0m \u001b[0;32min\u001b[0m \u001b[0mv\u001b[0m\u001b[0;34m:\u001b[0m\u001b[0;34m\u001b[0m\u001b[0;34m\u001b[0m\u001b[0m\n\u001b[1;32m     33\u001b[0m             \u001b[0mm\u001b[0m\u001b[0;34m.\u001b[0m\u001b[0msend\u001b[0m\u001b[0;34m(\u001b[0m\u001b[0mvalue\u001b[0m\u001b[0;34m)\u001b[0m\u001b[0;34m\u001b[0m\u001b[0;34m\u001b[0m\u001b[0m\n\u001b[0;32m---> 34\u001b[0;31m         \u001b[0mm\u001b[0m\u001b[0;34m.\u001b[0m\u001b[0msend\u001b[0m\u001b[0;34m(\u001b[0m\u001b[0;32mNone\u001b[0m\u001b[0;34m)\u001b[0m\u001b[0;34m\u001b[0m\u001b[0;34m\u001b[0m\u001b[0m\n\u001b[0m\u001b[1;32m     35\u001b[0m         \u001b[0mprint\u001b[0m\u001b[0;34m(\u001b[0m\u001b[0mfinal_results\u001b[0m\u001b[0;34m)\u001b[0m\u001b[0;34m\u001b[0m\u001b[0;34m\u001b[0m\u001b[0m\n\u001b[1;32m     36\u001b[0m \u001b[0mmain\u001b[0m\u001b[0;34m(\u001b[0m\u001b[0;34m)\u001b[0m\u001b[0;34m\u001b[0m\u001b[0;34m\u001b[0m\u001b[0m\n",
      "\u001b[0;31mStopIteration\u001b[0m: "
     ]
    }
   ],
   "source": [
    "final_results={}\n",
    "def sales_sum(product):\n",
    "    sum=0\n",
    "    num=[]\n",
    "    while True:\n",
    "        x=yield\n",
    "        if not x:\n",
    "            break\n",
    "        print (product+'销量',x)\n",
    "        sum+=x\n",
    "        num.append(x)\n",
    "    return sum , x\n",
    "    \n",
    "def middle(key):\n",
    "    #while True:\n",
    "    try:\n",
    "        final_results[key]= yield from sales_sum(key)\n",
    "        print(key+'销量统计完成')\n",
    "    except StopIteration as e:\n",
    "        print(e.value)\n",
    "\n",
    "def main():\n",
    "    data_sets={\n",
    "        \"bobby牌面膜\":[1200,1500,3000],\n",
    "        \"bobby牌手机\":[28,55,98,108],\n",
    "        \"bobby牌大衣\":[280,560,778,70]\n",
    "    }\n",
    "    for k,v in data_sets.items():\n",
    "        print ('start key:'+k)\n",
    "        m=middle(k)\n",
    "        m.send(None)\n",
    "        for value in v:\n",
    "            m.send(value)\n",
    "        m.send(None)\n",
    "        print(final_results)\n",
    "main()"
   ]
  },
  {
   "cell_type": "code",
   "execution_count": null,
   "metadata": {},
   "outputs": [],
   "source": [
    "data_sets={\n",
    "        \"bobby牌面膜\":[1200,1500,3000],\n",
    "        \"bobby牌手机\":[28,55,98,108],\n",
    "        \"bobby牌大衣\":[280,560,778,70]\n",
    "}"
   ]
  },
  {
   "cell_type": "markdown",
   "metadata": {},
   "source": [
    "start key: bobby牌面膜\n",
    "bobby牌面膜销量 1200\n",
    "bobby牌面膜销量 1500\n",
    "bobby牌面膜销量 3000\n",
    "bobby牌面膜销量 None\n",
    "bobby牌面膜销量统计完成\n",
    "final_results {'bobby牌面膜': (5700, [1200, 1500, 3000])}\n",
    "start key: bobby牌手机\n",
    "bobby牌手机销量 28\n",
    "bobby牌手机销量 55\n",
    "bobby牌手机销量 98\n",
    "bobby牌手机销量 108\n",
    "bobby牌手机销量 None\n",
    "bobby牌手机销量统计完成\n",
    "final_results {'bobby牌面膜': (5700, [1200, 1500, 3000]), 'bobby牌手机': (289, [28, 55, 98, 108])}\n",
    "start key: bobby牌大衣\n",
    "bobby牌大衣销量 280\n",
    "bobby牌大衣销量 560\n",
    "bobby牌大衣销量 778\n",
    "bobby牌大衣销量 70\n",
    "bobby牌大衣销量 None\n",
    "bobby牌大衣销量统计完成\n",
    "final_results {'bobby牌面膜': (5700, [1200, 1500, 3000]), 'bobby牌手机': (289, [28, 55, 98, 108]), 'bobby牌大衣': (1688, [280, 560, 778, 70])}"
   ]
  }
 ],
 "metadata": {
  "kernelspec": {
   "display_name": "Python 3",
   "language": "python",
   "name": "python3"
  },
  "language_info": {
   "codemirror_mode": {
    "name": "ipython",
    "version": 3
   },
   "file_extension": ".py",
   "mimetype": "text/x-python",
   "name": "python",
   "nbconvert_exporter": "python",
   "pygments_lexer": "ipython3",
   "version": "3.7.1"
  }
 },
 "nbformat": 4,
 "nbformat_minor": 2
}
